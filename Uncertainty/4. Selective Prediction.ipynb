{
 "cells": [
  {
   "cell_type": "code",
   "execution_count": 2,
   "id": "a5f27386",
   "metadata": {},
   "outputs": [
    {
     "name": "stderr",
     "output_type": "stream",
     "text": [
      "/usr/local/lib/python3.10/dist-packages/tqdm/auto.py:21: TqdmWarning: IProgress not found. Please update jupyter and ipywidgets. See https://ipywidgets.readthedocs.io/en/stable/user_install.html\n",
      "  from .autonotebook import tqdm as notebook_tqdm\n"
     ]
    }
   ],
   "source": [
    "import os\n",
    "import time\n",
    "import numpy as np\n",
    "import tensorflow as tf\n",
    "import matplotlib.pyplot as plt\n",
    "import seaborn as sns\n",
    "\n",
    "from src.datasets import load_dataset, preprocess_dataset, prefetch_dataset\n",
    "from src.utils import *"
   ]
  },
  {
   "cell_type": "code",
   "execution_count": 47,
   "id": "bc001f35",
   "metadata": {},
   "outputs": [],
   "source": [
    "cfg = { 'dataset' : 'svhn',\n",
    "        'model' : 'densenet121',\n",
    "        'batch_size' : 512,\n",
    "        'optimizer' : 'Adam',\n",
    "        'learning_rate' : 0.001,\n",
    "        'max_epoch' : 300,\n",
    "        'patience' : 10,}    \n",
    "\n",
    "model_name = cfg['model']\n",
    "dataset_name = cfg['dataset']"
   ]
  },
  {
   "cell_type": "markdown",
   "id": "2baea1f9",
   "metadata": {},
   "source": [
    "### Softmax"
   ]
  },
  {
   "cell_type": "code",
   "execution_count": null,
   "id": "6b166b79",
   "metadata": {
    "scrolled": true
   },
   "outputs": [],
   "source": [
    "n_examples = [int(i/1000*10000) for i in range(0,11,2)] + [int(i/100*10000) for i in range(2,10,2)] + [int(i/10*10000) for i in range(1,10,2)]\n",
    "\n",
    "for run in range(5):\n",
    "    tf.keras.utils.set_random_seed(run+10) # set random seed for Python, NumPy, and TensorFlow\n",
    "    print(f'Run: {run+1}')\n",
    "    \n",
    "    ds_train, ds_val, ds_test, ds_info = load_dataset(cfg, shuffle=False)\n",
    "    n_classes = ds_info.features['label'].num_classes\n",
    "    ds_test = preprocess_dataset(ds_test, cfg, n_classes, resize=False, normalize=True, onehot=True)\n",
    "    \n",
    "    model = tf.keras.models.load_model(f'../results/PI_Explainability/{model_name}_{dataset_name}/run_{run+1}/trained_model.keras')\n",
    "    n_wrong = (1 - model.evaluate(ds_test.batch(cfg['batch_size']), verbose=0)[1])*len(ds_test)\n",
    "    preds = model.predict(ds_test.batch(cfg['batch_size']), verbose=0)\n",
    "    true_y = np.argmax([y for x,y in ds_test], axis=1)\n",
    "    pred_y = np.argmax(preds, axis=1)\n",
    "    true_label = np.equal(true_y, pred_y).astype(int) # assign 0 if true_y != pred_y, assign 1 if true_y == pred_y\n",
    "    softmax_val = np.max(preds, axis=1)\n",
    "\n",
    "    softmax_error_list = []\n",
    "    for n in n_examples:\n",
    "        err = 1 - compute_selective_pred_acc(softmax_val, ds_test, model, n)\n",
    "        softmax_error_list.append(err)\n",
    "    \n",
    "    softmax_error = np.array(softmax_error_list)\n",
    "\n",
    "    exp_name = f'../results/PI_Explainability/{model_name}_{dataset_name}/run_{run+1}/calibration'\n",
    "    np.savez(f'{exp_name}/softmax_selective_pred.npz', softmax=softmax_error, n_wrong=n_wrong)"
   ]
  },
  {
   "cell_type": "code",
   "execution_count": 32,
   "id": "0df9ab30",
   "metadata": {
    "scrolled": true
   },
   "outputs": [
    {
     "name": "stdout",
     "output_type": "stream",
     "text": [
      "Run: 1\n"
     ]
    },
    {
     "ename": "FileNotFoundError",
     "evalue": "[Errno 2] No such file or directory: '../results/PI_Explainability/pretrained_inception_stl10/run_1/opt_temp.npy'",
     "output_type": "error",
     "traceback": [
      "\u001b[0;31m---------------------------------------------------------------------------\u001b[0m",
      "\u001b[0;31mFileNotFoundError\u001b[0m                         Traceback (most recent call last)",
      "Cell \u001b[0;32mIn[32], line 12\u001b[0m\n\u001b[1;32m      9\u001b[0m ds_test \u001b[38;5;241m=\u001b[39m preprocess_dataset(ds_test, cfg, n_classes, resize\u001b[38;5;241m=\u001b[39m\u001b[38;5;28;01mTrue\u001b[39;00m, normalize\u001b[38;5;241m=\u001b[39m\u001b[38;5;28;01mTrue\u001b[39;00m, onehot\u001b[38;5;241m=\u001b[39m\u001b[38;5;28;01mTrue\u001b[39;00m)\n\u001b[1;32m     11\u001b[0m model \u001b[38;5;241m=\u001b[39m tf\u001b[38;5;241m.\u001b[39mkeras\u001b[38;5;241m.\u001b[39mmodels\u001b[38;5;241m.\u001b[39mload_model(\u001b[38;5;124mf\u001b[39m\u001b[38;5;124m'\u001b[39m\u001b[38;5;124m../results/PI_Explainability/\u001b[39m\u001b[38;5;132;01m{\u001b[39;00mmodel_name\u001b[38;5;132;01m}\u001b[39;00m\u001b[38;5;124m_\u001b[39m\u001b[38;5;132;01m{\u001b[39;00mdataset_name\u001b[38;5;132;01m}\u001b[39;00m\u001b[38;5;124m/run_\u001b[39m\u001b[38;5;132;01m{\u001b[39;00mrun\u001b[38;5;241m+\u001b[39m\u001b[38;5;241m1\u001b[39m\u001b[38;5;132;01m}\u001b[39;00m\u001b[38;5;124m/trained_model.keras\u001b[39m\u001b[38;5;124m'\u001b[39m)\n\u001b[0;32m---> 12\u001b[0m temp \u001b[38;5;241m=\u001b[39m \u001b[43mnp\u001b[49m\u001b[38;5;241;43m.\u001b[39;49m\u001b[43mload\u001b[49m\u001b[43m(\u001b[49m\u001b[38;5;124;43mf\u001b[39;49m\u001b[38;5;124;43m'\u001b[39;49m\u001b[38;5;124;43m../results/PI_Explainability/\u001b[39;49m\u001b[38;5;132;43;01m{\u001b[39;49;00m\u001b[43mmodel_name\u001b[49m\u001b[38;5;132;43;01m}\u001b[39;49;00m\u001b[38;5;124;43m_\u001b[39;49m\u001b[38;5;132;43;01m{\u001b[39;49;00m\u001b[43mdataset_name\u001b[49m\u001b[38;5;132;43;01m}\u001b[39;49;00m\u001b[38;5;124;43m/run_\u001b[39;49m\u001b[38;5;132;43;01m{\u001b[39;49;00m\u001b[43mrun\u001b[49m\u001b[38;5;241;43m+\u001b[39;49m\u001b[38;5;241;43m1\u001b[39;49m\u001b[38;5;132;43;01m}\u001b[39;49;00m\u001b[38;5;124;43m/opt_temp.npy\u001b[39;49m\u001b[38;5;124;43m'\u001b[39;49m\u001b[43m)\u001b[49m\n\u001b[1;32m     13\u001b[0m logits_layer \u001b[38;5;241m=\u001b[39m model\u001b[38;5;241m.\u001b[39mlayers[\u001b[38;5;241m-\u001b[39m\u001b[38;5;241m1\u001b[39m]\n\u001b[1;32m     14\u001b[0m logits_layer\u001b[38;5;241m.\u001b[39mactivation \u001b[38;5;241m=\u001b[39m \u001b[38;5;28;01mNone\u001b[39;00m \n",
      "File \u001b[0;32m/usr/local/lib/python3.10/dist-packages/numpy/lib/npyio.py:405\u001b[0m, in \u001b[0;36mload\u001b[0;34m(file, mmap_mode, allow_pickle, fix_imports, encoding, max_header_size)\u001b[0m\n\u001b[1;32m    403\u001b[0m     own_fid \u001b[38;5;241m=\u001b[39m \u001b[38;5;28;01mFalse\u001b[39;00m\n\u001b[1;32m    404\u001b[0m \u001b[38;5;28;01melse\u001b[39;00m:\n\u001b[0;32m--> 405\u001b[0m     fid \u001b[38;5;241m=\u001b[39m stack\u001b[38;5;241m.\u001b[39menter_context(\u001b[38;5;28;43mopen\u001b[39;49m\u001b[43m(\u001b[49m\u001b[43mos_fspath\u001b[49m\u001b[43m(\u001b[49m\u001b[43mfile\u001b[49m\u001b[43m)\u001b[49m\u001b[43m,\u001b[49m\u001b[43m \u001b[49m\u001b[38;5;124;43m\"\u001b[39;49m\u001b[38;5;124;43mrb\u001b[39;49m\u001b[38;5;124;43m\"\u001b[39;49m\u001b[43m)\u001b[49m)\n\u001b[1;32m    406\u001b[0m     own_fid \u001b[38;5;241m=\u001b[39m \u001b[38;5;28;01mTrue\u001b[39;00m\n\u001b[1;32m    408\u001b[0m \u001b[38;5;66;03m# Code to distinguish from NumPy binary files and pickles.\u001b[39;00m\n",
      "\u001b[0;31mFileNotFoundError\u001b[0m: [Errno 2] No such file or directory: '../results/PI_Explainability/pretrained_inception_stl10/run_1/opt_temp.npy'"
     ]
    }
   ],
   "source": [
    "acc = []\n",
    "n = []\n",
    "for run in range(5):\n",
    "    tf.keras.utils.set_random_seed(run+10) # set random seed for Python, NumPy, and TensorFlow\n",
    "    print(f'Run: {run+1}')\n",
    "    \n",
    "    ds_train, ds_val, ds_test, ds_info = load_dataset(cfg, shuffle=False)\n",
    "    n_classes = ds_info.features['label'].num_classes\n",
    "    ds_test = preprocess_dataset(ds_test, cfg, n_classes, resize=True, normalize=True, onehot=True)\n",
    "    \n",
    "    model = tf.keras.models.load_model(f'../results/PI_Explainability/{model_name}_{dataset_name}/run_{run+1}/trained_model.keras')\n",
    "    temp = np.load(f'../results/PI_Explainability/{model_name}_{dataset_name}/run_{run+1}/opt_temp.npy')\n",
    "    logits_layer = model.layers[-1]\n",
    "    logits_layer.activation = None \n",
    "    logits_model = tf.keras.models.Model(inputs=model.input, outputs=logits_layer.output)\n",
    "    preds = logits_model.predict(ds_test.batch(cfg['batch_size']), verbose=0)\n",
    "    preds = np.array([softmax(x/temp) for x in preds])\n",
    "    softmax_val = np.max(preds, axis=1)\n",
    "    exp_name = f'../results/PI_Explainability/{model_name}_{dataset_name}/run_{run+1}/calibration'\n",
    "    f = np.load(f'{exp_name}/calibrated_softmax_filtering_accuracy.npz')\n",
    "    opt_threshold = f['opt_threshold']\n",
    "    idx = np.where(softmax_val > opt_threshold)[0]\n",
    "    x = np.array([x for x, y in ds_test])\n",
    "    y = np.array([y for x, y in ds_test])\n",
    "    acc.append(model.evaluate(x[idx], y[idx], verbose=0)[1])\n",
    "    n.append(len(idx))"
   ]
  },
  {
   "cell_type": "code",
   "execution_count": 53,
   "id": "37a8bcf4",
   "metadata": {
    "scrolled": true
   },
   "outputs": [
    {
     "name": "stdout",
     "output_type": "stream",
     "text": [
      "Run: 1\n",
      "Run: 2\n",
      "Run: 3\n",
      "Run: 4\n",
      "Run: 5\n"
     ]
    }
   ],
   "source": [
    "acc = []\n",
    "n = []\n",
    "for run in range(5):\n",
    "    tf.keras.utils.set_random_seed(run+10) # set random seed for Python, NumPy, and TensorFlow\n",
    "    print(f'Run: {run+1}')\n",
    "    \n",
    "    ds_train, ds_val, ds_test, ds_info = load_dataset(cfg, shuffle=False)\n",
    "    n_classes = ds_info.features['label'].num_classes\n",
    "    ds_test = preprocess_dataset(ds_test, cfg, n_classes, resize=False, normalize=True, onehot=True)\n",
    "    \n",
    "    model = tf.keras.models.load_model(f'../results/PI_Explainability/{model_name}_{dataset_name}/run_{run+1}/trained_model.keras')\n",
    "    preds = model.predict(ds_test.batch(cfg['batch_size']), verbose=0)\n",
    "    preds = np.array([softmax(x) for x in preds])\n",
    "    softmax_val = np.max(preds, axis=1)\n",
    "    exp_name = f'../results/PI_Explainability/{model_name}_{dataset_name}/run_{run+1}/calibration'\n",
    "    f = np.load(f'{exp_name}/softmax_filtering_accuracy.npz')\n",
    "    opt_threshold = f['opt_threshold']\n",
    "    idx = np.where(softmax_val > opt_threshold)[0]\n",
    "    x = np.array([x for x, y in ds_test])\n",
    "    y = np.array([y for x, y in ds_test])\n",
    "    acc.append(model.evaluate(x[idx], y[idx], verbose=0)[1])\n",
    "    n.append(len(idx))"
   ]
  },
  {
   "cell_type": "code",
   "execution_count": 54,
   "id": "5718b88d",
   "metadata": {},
   "outputs": [
    {
     "name": "stdout",
     "output_type": "stream",
     "text": [
      "Error: 4.68 (0.61), n=-1.5189\n"
     ]
    }
   ],
   "source": [
    "print(f\"Error: {100-np.mean(acc)*100:.2f} ({np.std(acc)*100:.2f}), n={(10000-int(np.mean(n)))/10000}\")"
   ]
  },
  {
   "cell_type": "markdown",
   "id": "5b0eff61",
   "metadata": {},
   "source": [
    "### PMI"
   ]
  },
  {
   "cell_type": "code",
   "execution_count": null,
   "id": "a41bcf47",
   "metadata": {},
   "outputs": [],
   "source": [
    "critic = 'separable'\n",
    "estimator = 'density_ratio_fitting'\n",
    "\n",
    "n_examples = [int(i/1000*10000) for i in range(0,11,2)] + [int(i/100*10000) for i in range(2,10,2)] + [int(i/10*10000) for i in range(1,10,2)]\n",
    "\n",
    "for run in range(5):\n",
    "    tf.keras.utils.set_random_seed(run+10) # set random seed for Python, NumPy, and TensorFlow\n",
    "    print(f'Run: {run+1}')\n",
    "    \n",
    "    exp_name = f'../results/PI_Explainability/{model_name}_{dataset_name}/run_{run+1}/calibration/pmi/{critic}_{estimator}'\n",
    "    ds_train, ds_val, ds_test, ds_info = load_dataset(cfg, shuffle=False)\n",
    "    n_classes = ds_info.features['label'].num_classes\n",
    "    ds_test = preprocess_dataset(ds_test, cfg, n_classes, resize=False, normalize=True, onehot=True)\n",
    "\n",
    "    model = tf.keras.models.load_model(f'../results/PI_Explainability/{model_name}_{dataset_name}/run_{run+1}/trained_model.keras')\n",
    "    pred_y = np.argmax(model.predict(ds_test.batch(cfg['batch_size']), verbose=0), axis=1)\n",
    "    pmi_class = np.load(f'{exp_name}/pmi_class_test.npy')\n",
    "    pmi_class = np.array([softmax(x) for x in pmi_class])\n",
    "    pmi = [pmi_value[pred_value] for pmi_value, pred_value in zip(pmi_class, pred_y)]\n",
    "\n",
    "    pmi_error_list = []\n",
    "    for n in n_examples:\n",
    "        err = 1 - compute_selective_pred_acc(pmi, ds_test, model, n)\n",
    "        pmi_error_list.append(err)\n",
    "    \n",
    "    pmi_error = np.array(pmi_error_list)\n",
    "\n",
    "    np.save(f'{exp_name}/selective_pred.npy', pmi_error)"
   ]
  },
  {
   "cell_type": "code",
   "execution_count": 50,
   "id": "d2607ebc",
   "metadata": {},
   "outputs": [
    {
     "name": "stdout",
     "output_type": "stream",
     "text": [
      "Run: 1\n",
      "Run: 2\n",
      "Run: 3\n",
      "Run: 4\n",
      "Run: 5\n"
     ]
    }
   ],
   "source": [
    "critic = 'separable'\n",
    "estimator = 'density_ratio_fitting'\n",
    "\n",
    "acc = []\n",
    "n = []\n",
    "for run in range(5):\n",
    "    tf.keras.utils.set_random_seed(run+10) # set random seed for Python, NumPy, and TensorFlow\n",
    "    print(f'Run: {run+1}')\n",
    "    \n",
    "    ds_train, ds_val, ds_test, ds_info = load_dataset(cfg, shuffle=False)\n",
    "    n_classes = ds_info.features['label'].num_classes\n",
    "    ds_test = preprocess_dataset(ds_test, cfg, n_classes, resize=False, normalize=True, onehot=True)\n",
    "    \n",
    "    model = tf.keras.models.load_model(f'../results/PI_Explainability/{model_name}_{dataset_name}/run_{run+1}/trained_model.keras')\n",
    "    pred_y = np.argmax(model.predict(ds_test.batch(cfg['batch_size']), verbose=0), axis=1)\n",
    "    exp_name = f'../results/PI_Explainability/{model_name}_{dataset_name}/run_{run+1}/calibration/pmi/{critic}_{estimator}'\n",
    "    pmi_class = np.load(f'{exp_name}/pmi_class_test.npy')\n",
    "    pmi_class = np.array([softmax(x) for x in pmi_class])\n",
    "    pmi = [pmi_value[pred_value] for pmi_value, pred_value in zip(pmi_class, pred_y)]\n",
    "    f = np.load(f'{exp_name}/scaled_filtering_accuracy.npz')\n",
    "    opt_threshold = f['opt_threshold']\n",
    "    idx = np.where(pmi > opt_threshold)[0]\n",
    "    x = np.array([x for x, y in ds_test])\n",
    "    y = np.array([y for x, y in ds_test])\n",
    "    acc.append(model.evaluate(x[idx], y[idx], verbose=0)[1])\n",
    "    n.append(len(idx))"
   ]
  },
  {
   "cell_type": "code",
   "execution_count": 51,
   "id": "f61d6e63",
   "metadata": {},
   "outputs": [
    {
     "name": "stdout",
     "output_type": "stream",
     "text": [
      "Error: 4.24 (0.59), n=-1.5065\n"
     ]
    }
   ],
   "source": [
    "print(f\"Error: {100-np.mean(acc)*100:.2f} ({np.std(acc)*100:.2f}), n={(10000-int(np.mean(n)))/10000}\")"
   ]
  },
  {
   "cell_type": "markdown",
   "id": "88f2e226",
   "metadata": {},
   "source": [
    "### PVI"
   ]
  },
  {
   "cell_type": "code",
   "execution_count": null,
   "id": "36911463",
   "metadata": {
    "scrolled": true
   },
   "outputs": [],
   "source": [
    "estimator = 'ensemble_training_from_scratch_training_mlp_penultimate'\n",
    "\n",
    "n_examples = [int(i/1000*10000) for i in range(0,11,2)] + [int(i/100*10000) for i in range(2,10,2)] + [int(i/10*10000) for i in range(1,10,2)]\n",
    "\n",
    "for run in range(5):\n",
    "    tf.keras.utils.set_random_seed(run+10) # set random seed for Python, NumPy, and TensorFlow\n",
    "    print(f'Run: {run+1}')\n",
    "    \n",
    "    exp_name = f'../results/PI_Explainability/{model_name}_{dataset_name}/run_{run+1}/calibration/pvi/{estimator}'\n",
    "    ds_train, ds_val, ds_test, ds_info = load_dataset(cfg, shuffle=False)\n",
    "    n_classes = ds_info.features['label'].num_classes\n",
    "    ds_test = preprocess_dataset(ds_test, cfg, n_classes, resize=False, normalize=True, onehot=True)\n",
    "\n",
    "    model = tf.keras.models.load_model(f'../results/PI_Explainability/{model_name}_{dataset_name}/run_{run+1}/trained_model.keras')\n",
    "    pred_y = np.argmax(model.predict(ds_test.batch(cfg['batch_size']), verbose=0), axis=1)\n",
    "    pvi_class = np.load(f'{exp_name}/pvi_class_test.npy')\n",
    "    pvi_class = np.array([softmax(x) for x in pvi_class])\n",
    "    pvi = [pmi_value[pred_value] for pmi_value, pred_value in zip(pvi_class, pred_y)]\n",
    "\n",
    "    pvi_error_list = []\n",
    "    for n in n_examples:\n",
    "        err = 1 - compute_selective_pred_acc(pvi, ds_test, model, n)\n",
    "        pvi_error_list.append(err)\n",
    "    \n",
    "    pvi_error = np.array(pvi_error_list)\n",
    "\n",
    "    np.save(f'{exp_name}/selective_pred.npy', pvi_error)"
   ]
  },
  {
   "cell_type": "code",
   "execution_count": 36,
   "id": "0e51167c",
   "metadata": {},
   "outputs": [
    {
     "name": "stdout",
     "output_type": "stream",
     "text": [
      "Run: 1\n",
      "Run: 2\n",
      "Run: 3\n",
      "Run: 4\n",
      "Run: 5\n"
     ]
    }
   ],
   "source": [
    "estimator = 'training_from_scratch'\n",
    "\n",
    "acc = []\n",
    "n = []\n",
    "for run in range(5):\n",
    "    tf.keras.utils.set_random_seed(run+10) # set random seed for Python, NumPy, and TensorFlow\n",
    "    print(f'Run: {run+1}')\n",
    "    \n",
    "    exp_name = f'../results/PI_Explainability/{model_name}_{dataset_name}/run_{run+1}/calibration/pvi/{estimator}'\n",
    "    ds_train, ds_val, ds_test, ds_info = load_dataset(cfg, shuffle=False)\n",
    "    n_classes = ds_info.features['label'].num_classes\n",
    "    ds_test = preprocess_dataset(ds_test, cfg, n_classes, resize=True, normalize=True, onehot=True)\n",
    "    \n",
    "    model = tf.keras.models.load_model(f'../results/PI_Explainability/{model_name}_{dataset_name}/run_{run+1}/trained_model.keras')\n",
    "    pred_y = np.argmax(model.predict(ds_test.batch(cfg['batch_size']), verbose=0), axis=1)\n",
    "    pvi_class = np.load(f'{exp_name}/pvi_calibrated_class_test.npy')\n",
    "    pvi_class = np.array([softmax(x) for x in pvi_class])\n",
    "    pvi = [pvi_value[pred_value] for pvi_value, pred_value in zip(pvi_class, pred_y)]\n",
    "    \n",
    "    f = np.load(f'{exp_name}/calibrated_scaled_filtering_accuracy.npz')\n",
    "    opt_threshold = f['opt_threshold']\n",
    "    idx = np.where(pvi > opt_threshold)[0]\n",
    "    x = np.array([x for x, y in ds_test])\n",
    "    y = np.array([y for x, y in ds_test])\n",
    "    acc.append(model.evaluate(x[idx], y[idx], verbose=0)[1])\n",
    "    n.append(len(idx))"
   ]
  },
  {
   "cell_type": "code",
   "execution_count": 37,
   "id": "db43eb5b",
   "metadata": {},
   "outputs": [
    {
     "name": "stdout",
     "output_type": "stream",
     "text": [
      "Error: 3.95 (0.44), n=0.2108\n"
     ]
    }
   ],
   "source": [
    "print(f\"Error: {100-np.mean(acc)*100:.2f} ({np.std(acc)*100:.2f}), n={(10000-int(np.mean(n)))/10000}\")"
   ]
  },
  {
   "cell_type": "markdown",
   "id": "9b38b218",
   "metadata": {},
   "source": [
    "### PSI"
   ]
  },
  {
   "cell_type": "code",
   "execution_count": 3,
   "id": "d89dc9e5",
   "metadata": {},
   "outputs": [
    {
     "name": "stdout",
     "output_type": "stream",
     "text": [
      "Run: 1\n"
     ]
    },
    {
     "name": "stderr",
     "output_type": "stream",
     "text": [
      "2024-02-02 11:03:31.343971: I tensorflow/core/common_runtime/gpu/gpu_device.cc:1883] Created device /job:localhost/replica:0/task:0/device:GPU:0 with 78835 MB memory:  -> device: 0, name: NVIDIA A100-SXM4-80GB, pci bus id: 0000:4e:00.0, compute capability: 8.0\n",
      "2024-02-02 11:03:38.122677: I tensorflow/compiler/xla/stream_executor/cuda/cuda_dnn.cc:442] Loaded cuDNN version 8906\n"
     ]
    },
    {
     "name": "stdout",
     "output_type": "stream",
     "text": [
      "Run: 2\n",
      "Run: 3\n",
      "Run: 4\n",
      "Run: 5\n"
     ]
    }
   ],
   "source": [
    "estimator = 'gaussian'\n",
    "\n",
    "n_examples = [int(i/1000*10000) for i in range(0,11,2)] + [int(i/100*10000) for i in range(2,10,2)] + [int(i/10*10000) for i in range(1,10,2)]\n",
    "\n",
    "for run in range(5):\n",
    "    tf.keras.utils.set_random_seed(run+10) # set random seed for Python, NumPy, and TensorFlow\n",
    "    print(f'Run: {run+1}')\n",
    "    \n",
    "    exp_name = f'../results/PI_Explainability/{model_name}_{dataset_name}/run_{run+1}/calibration/psi/{estimator}'\n",
    "    ds_train, ds_val, ds_test, ds_info = load_dataset(cfg, shuffle=False)\n",
    "    n_classes = ds_info.features['label'].num_classes\n",
    "    ds_test = preprocess_dataset(ds_test, cfg, n_classes, resize=False, normalize=True, onehot=True)\n",
    "\n",
    "    model = tf.keras.models.load_model(f'../results/PI_Explainability/{model_name}_{dataset_name}/run_{run+1}/trained_model.keras')\n",
    "    pred_y = np.argmax(model.predict(ds_test.batch(cfg['batch_size']), verbose=0), axis=1)\n",
    "    psi_class = np.load(f'{exp_name}/psi_class_test.npy')\n",
    "    psi_class = np.array([softmax(x) for x in psi_class])\n",
    "    psi = [psi_value[pred_value] for psi_value, pred_value in zip(psi_class, pred_y)]\n",
    "\n",
    "    psi_error_list = []\n",
    "    for n in n_examples:\n",
    "        err = 1 - compute_selective_pred_acc(psi, ds_test, model, n)\n",
    "        psi_error_list.append(err)\n",
    "    \n",
    "    psi_error = np.array(psi_error_list)\n",
    "\n",
    "    np.save(f'{exp_name}/selective_pred.npy', psi_error)"
   ]
  },
  {
   "cell_type": "code",
   "execution_count": 55,
   "id": "cf9714ac",
   "metadata": {},
   "outputs": [
    {
     "name": "stdout",
     "output_type": "stream",
     "text": [
      "Run: 1\n",
      "Run: 2\n",
      "Run: 3\n",
      "Run: 4\n",
      "Run: 5\n"
     ]
    }
   ],
   "source": [
    "estimator = 'gaussian'\n",
    "\n",
    "acc = []\n",
    "n = []\n",
    "for run in range(5):\n",
    "    tf.keras.utils.set_random_seed(run+10) # set random seed for Python, NumPy, and TensorFlow\n",
    "    print(f'Run: {run+1}')\n",
    "    \n",
    "    exp_name = f'../results/PI_Explainability/{model_name}_{dataset_name}/run_{run+1}/calibration/psi/{estimator}'\n",
    "    ds_train, ds_val, ds_test, ds_info = load_dataset(cfg, shuffle=False)\n",
    "    n_classes = ds_info.features['label'].num_classes\n",
    "    ds_test = preprocess_dataset(ds_test, cfg, n_classes, resize=False, normalize=True, onehot=True)\n",
    "    \n",
    "    model = tf.keras.models.load_model(f'../results/PI_Explainability/{model_name}_{dataset_name}/run_{run+1}/trained_model.keras')\n",
    "    pred_y = np.argmax(model.predict(ds_test.batch(cfg['batch_size']), verbose=0), axis=1)\n",
    "    psi_class = np.load(f'{exp_name}/psi_class_test.npy')\n",
    "    psi_class = np.array([softmax(x) for x in psi_class])\n",
    "    psi = [psi_value[pred_value] for psi_value, pred_value in zip(psi_class, pred_y)]\n",
    "    \n",
    "    f = np.load(f'{exp_name}/scaled_filtering_accuracy.npz')\n",
    "    opt_threshold = f['opt_threshold']\n",
    "    idx = np.where(psi > opt_threshold)[0]\n",
    "    x = np.array([x for x, y in ds_test])\n",
    "    y = np.array([y for x, y in ds_test])\n",
    "    acc.append(model.evaluate(x[idx], y[idx], verbose=0)[1])\n",
    "    n.append(len(idx))"
   ]
  },
  {
   "cell_type": "code",
   "execution_count": 56,
   "id": "185e446c",
   "metadata": {},
   "outputs": [
    {
     "name": "stdout",
     "output_type": "stream",
     "text": [
      "Error: 4.74 (0.41), n=-1.5227\n"
     ]
    }
   ],
   "source": [
    "print(f\"Error: {100-np.mean(acc)*100:.2f} ({np.std(acc)*100:.2f}), n={(10000-int(np.mean(n)))/10000}\")"
   ]
  },
  {
   "cell_type": "markdown",
   "id": "4eeeac45",
   "metadata": {},
   "source": [
    "### Plot"
   ]
  },
  {
   "cell_type": "code",
   "execution_count": 13,
   "id": "0e9bd36f",
   "metadata": {},
   "outputs": [
    {
     "name": "stdout",
     "output_type": "stream",
     "text": [
      "Run: 1\n",
      "Run: 2\n",
      "Run: 3\n",
      "Run: 4\n",
      "Run: 5\n"
     ]
    }
   ],
   "source": [
    "all_softmax = []\n",
    "all_n_wrong = []\n",
    "all_pmi = []\n",
    "all_pvi = []\n",
    "all_psi = []\n",
    "\n",
    "for run in range(5):\n",
    "    print(f'Run: {run+1}')\n",
    "    exp_name = f'../results/PI_Explainability/{model_name}_{dataset_name}/run_{run+1}/calibration'\n",
    "    f = np.load(f'{exp_name}/softmax_selective_pred.npz')\n",
    "    softmax = f['softmax']\n",
    "    n_wrong = f['n_wrong']\n",
    "    all_softmax.append(softmax)\n",
    "    all_n_wrong.append(n_wrong)\n",
    "    \n",
    "    critic = 'separable'\n",
    "    estimator = 'density_ratio_fitting'\n",
    "    exp_name = f'../results/PI_Explainability/{model_name}_{dataset_name}/run_{run+1}/calibration/pmi/{critic}_{estimator}'\n",
    "    pmi = np.load(f'{exp_name}/selective_pred.npy')\n",
    "    all_pmi.append(pmi)\n",
    "    \n",
    "    estimator = 'ensemble_training_from_scratch_training_mlp_penultimate'\n",
    "    exp_name = f'../results/PI_Explainability/{model_name}_{dataset_name}/run_{run+1}/calibration/pvi/{estimator}'\n",
    "    pvi = np.load(f'{exp_name}/selective_pred.npy')\n",
    "    all_pvi.append(pvi)\n",
    "    \n",
    "    estimator = 'gaussian'\n",
    "    exp_name = f'../results/PI_Explainability/{model_name}_{dataset_name}/run_{run+1}/calibration/psi/{estimator}'\n",
    "    psi = np.load(f'{exp_name}/selective_pred.npy')\n",
    "    all_psi.append(psi)\n",
    "    \n",
    "softmax_val = np.mean(np.array(all_softmax), axis=0)\n",
    "n_wrong = int(np.mean(np.array(all_n_wrong), axis=0))\n",
    "pmi = np.mean(np.array(all_pmi), axis=0)\n",
    "pvi = np.mean(np.array(all_pvi), axis=0)\n",
    "psi = np.mean(np.array(all_psi), axis=0)"
   ]
  },
  {
   "cell_type": "code",
   "execution_count": 14,
   "id": "2c26c63d",
   "metadata": {},
   "outputs": [
    {
     "data": {
      "image/png": "[encoded data removed]",
      "text/plain": [
       "<Figure size 400x250 with 1 Axes>"
      ]
     },
     "metadata": {},
     "output_type": "display_data"
    }
   ],
   "source": [
    "plt.figure(figsize=(4,2.5),dpi=100)\n",
    "cp = sns.color_palette('colorblind', as_cmap=True)\n",
    "length_test = 10000\n",
    "n_examples = [int(i/1000*length_test) for i in range(0,11,2)] + [int(i/100*length_test) for i in range(2,10,2)] + [int(i/10*length_test) for i in range(1,10,2)]\n",
    "plt.plot(n_examples,softmax_val, marker='s', label='softmax', c=cp[0], ms=4)\n",
    "plt.plot(n_examples,pmi, marker='o', label='PMI', c=cp[1], ms=4)\n",
    "plt.plot(n_examples,pvi, marker='s', label='PVI', c=cp[2], ms=5,  markerfacecolor=\"None\")\n",
    "plt.plot(n_examples,psi, marker='o', label='PSI', c=cp[3], ms=5,  markerfacecolor=\"None\")\n",
    "plt.grid(True)\n",
    "plt.xscale('log')\n",
    "plt.xticks([20,100,1000,9000],[20,100,1000,9000])\n",
    "plt.xlabel('No. of samples deferred to oracle', fontsize=11)\n",
    "plt.ylabel('Err. on remaining samples', fontsize=11, c='white')\n",
    "plt.title(f'Avg. no. of incorrect predictions : {n_wrong}', fontsize=12)\n",
    "plt.legend(loc='lower left')\n",
    "plt.show()"
   ]
  },
  {
   "cell_type": "code",
   "execution_count": null,
   "id": "0e9a5320",
   "metadata": {},
   "outputs": [],
   "source": []
  }
 ],
 "metadata": {
  "kernelspec": {
   "display_name": "Python 3 (ipykernel)",
   "language": "python",
   "name": "python3"
  },
  "language_info": {
   "codemirror_mode": {
    "name": "ipython",
    "version": 3
   },
   "file_extension": ".py",
   "mimetype": "text/x-python",
   "name": "python",
   "nbconvert_exporter": "python",
   "pygments_lexer": "ipython3",
   "version": "3.10.12"
  }
 },
 "nbformat": 4,
 "nbformat_minor": 5
}
